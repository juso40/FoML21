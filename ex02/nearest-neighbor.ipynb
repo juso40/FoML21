{
 "cells": [
  {
   "cell_type": "markdown",
   "metadata": {},
   "source": [
    "# 1 Nearest Neighbor Classification on Real Data"
   ]
  },
  {
   "cell_type": "markdown",
   "metadata": {},
   "source": [
    "## 1.1  Exploring the Data"
   ]
  },
  {
   "cell_type": "markdown",
   "metadata": {},
   "source": [
    "> Load the dataset from sklearn and extract the data:"
   ]
  },
  {
   "cell_type": "code",
   "execution_count": 44,
   "metadata": {},
   "outputs": [
    {
     "name": "stdout",
     "output_type": "stream",
     "text": [
      "dict_keys(['data', 'target', 'frame', 'feature_names', 'target_names', 'images', 'DESCR'])\n",
      "float64\n"
     ]
    }
   ],
   "source": [
    "from sklearn.datasets import load_digits\n",
    "\n",
    "digits = load_digits()\n",
    "\n",
    "print(digits.keys())\n",
    "\n",
    "data = digits.data\n",
    "images = digits.images\n",
    "target = digits.target\n",
    "target_names = digits.target_names\n",
    "\n",
    "print(data.dtype)\n"
   ]
  },
  {
   "cell_type": "markdown",
   "metadata": {},
   "source": [
    "-----------"
   ]
  },
  {
   "cell_type": "markdown",
   "metadata": {},
   "source": [
    "> What is the size of these images (the numpy attribute shape might come in handy)?"
   ]
  },
  {
   "cell_type": "code",
   "execution_count": 45,
   "metadata": {},
   "outputs": [
    {
     "data": {
      "text/plain": [
       "(1797, 8, 8)"
      ]
     },
     "execution_count": 45,
     "metadata": {},
     "output_type": "execute_result"
    }
   ],
   "source": [
    "images.shape"
   ]
  },
  {
   "cell_type": "markdown",
   "metadata": {},
   "source": [
    "Each image is 8 by 8 pixels, there are a total of 1797 images.\n",
    "\n",
    "----------------\n"
   ]
  },
  {
   "cell_type": "markdown",
   "metadata": {},
   "source": [
    "> Visualize one image of a 3 using the ``imshow`` function ``from matplotlib.pyplot``, trying the two interpolation methods in the code:"
   ]
  },
  {
   "cell_type": "code",
   "execution_count": 46,
   "metadata": {},
   "outputs": [
    {
     "data": {
      "image/png": "[encoded data removed]",
      "text/plain": [
       "<Figure size 432x288 with 1 Axes>"
      ]
     },
     "metadata": {
      "needs_background": "light"
     },
     "output_type": "display_data"
    },
    {
     "data": {
      "image/png": "[encoded data removed]",
      "text/plain": [
       "<Figure size 432x288 with 1 Axes>"
      ]
     },
     "metadata": {
      "needs_background": "light"
     },
     "output_type": "display_data"
    }
   ],
   "source": [
    "import numpy as np\n",
    "import matplotlib.pyplot as plt\n",
    "\n",
    "\n",
    "img = images[np.where(target==3)[0][0]]\n",
    "\n",
    "assert 2 == len(img.shape)\n",
    "\n",
    "for _interpolation in (\"nearest\", \"bicubic\"):\n",
    "    plt.figure()\n",
    "    plt.gray()\n",
    "    plt.imshow(img, interpolation=_interpolation)\n",
    "    plt.show()\n"
   ]
  },
  {
   "cell_type": "markdown",
   "metadata": {},
   "source": [
    "-----------------------------------------\n"
   ]
  },
  {
   "cell_type": "markdown",
   "metadata": {},
   "source": [
    "> Moreover, sklearn provides a convenient function to separate the data into a training and a test set."
   ]
  },
  {
   "cell_type": "code",
   "execution_count": 47,
   "metadata": {},
   "outputs": [],
   "source": [
    "from sklearn import model_selection\n",
    "\n",
    "X_all = data\n",
    "y_all = target\n",
    "\n",
    "X_train, X_test, y_train, y_test = model_selection.train_test_split(data,\n",
    "                                                                    target,\n",
    "                                                                    test_size=0.4,\n",
    "                                                                    random_state=0\n",
    "                                                                    )"
   ]
  },
  {
   "cell_type": "markdown",
   "metadata": {},
   "source": [
    "## 1.2 Distance function computation using loops\n"
   ]
  },
  {
   "cell_type": "code",
   "execution_count": 48,
   "metadata": {},
   "outputs": [],
   "source": [
    "from itertools import product\n",
    "\n",
    "def dist_loop(training: np.ndarray, test: np.ndarray):\n",
    "    \"\"\"Calculate the euclidean distance between all instances in the training and test set\n",
    "\n",
    "    Using a for loop\n",
    "    \n",
    "    Parameters\n",
    "    ----------\n",
    "    training : numpy.ndarray\n",
    "        2D array of the size N x D, with D pixels per image and N instances\n",
    "        in the training set.\n",
    "\n",
    "    test : np.ndarray\n",
    "        2D array of the size M x D, with D pixels per image and M instances \n",
    "        in the test set.\n",
    "\n",
    "    Returns\n",
    "    -------\n",
    "    distances : np.ndarray\n",
    "        2D array of the size N x M. \n",
    "        The euclidean distance between all instances.\n",
    "\n",
    "    \"\"\"\n",
    "    N, D = training.shape\n",
    "    M, _ = test.shape\n",
    "    \n",
    "    distances: np.ndarray = np.empty(N*M)\n",
    "\n",
    "    i = 0\n",
    "    for n, m in product(training, test):\n",
    "        distances[i] = np.linalg.norm(m - n)\n",
    "        i += 1\n",
    "\n",
    "    return distances.reshape((N, M))\n"
   ]
  },
  {
   "cell_type": "markdown",
   "metadata": {},
   "source": [
    "## 1.3 Distance function computation using vectorization"
   ]
  },
  {
   "cell_type": "code",
   "execution_count": 49,
   "metadata": {},
   "outputs": [],
   "source": [
    "def dist_vec(training: np.ndarray, test: np.ndarray):\n",
    "    \"\"\"Calculate the euclidean distance between all instances in the training and test set\n",
    "\n",
    "    Using numpy vectorized functions\n",
    "    \n",
    "    Parameters\n",
    "    ----------\n",
    "    training : numpy.ndarray\n",
    "        2D array of the size N x D, with D pixels per image and N instances\n",
    "        in the training set.\n",
    "\n",
    "    test : np.ndarray\n",
    "        2D array of the size M x D, with D pixels per image and M instances \n",
    "        in the test set.\n",
    "\n",
    "    Returns\n",
    "    -------\n",
    "    distances : np.ndarray\n",
    "        2D array of the size N x M. \n",
    "        The euclidean distance between all instances.\n",
    "\n",
    "    \"\"\"\n",
    "\n",
    "    N, D = training.shape\n",
    "    M, _ = test.shape\n",
    "    \n",
    "    \n",
    "    return np.linalg.norm(training[:, None] - test[None, :], axis=-1, keepdims=False).reshape((N, M))\n"
   ]
  },
  {
   "cell_type": "markdown",
   "metadata": {},
   "source": [
    "-------------------------------"
   ]
  },
  {
   "cell_type": "markdown",
   "metadata": {},
   "source": [
    "> Verify that the new function returns the same distances as the loop-based version."
   ]
  },
  {
   "cell_type": "code",
   "execution_count": 50,
   "metadata": {},
   "outputs": [
    {
     "name": "stdout",
     "output_type": "stream",
     "text": [
      "Assertion passed successfully!\n"
     ]
    }
   ],
   "source": [
    "np.testing.assert_allclose(dist_loop(X_train, X_test), dist_vec(X_train, X_test))\n",
    "print(\"Assertion passed successfully!\")"
   ]
  },
  {
   "cell_type": "markdown",
   "metadata": {},
   "source": [
    "------------------------------"
   ]
  },
  {
   "cell_type": "markdown",
   "metadata": {},
   "source": [
    "> Now compare the run times of the two implementations using jupyter’s ``%timeit`` command (the vectorized version should be significantly faster)"
   ]
  },
  {
   "cell_type": "code",
   "execution_count": 51,
   "metadata": {},
   "outputs": [
    {
     "name": "stdout",
     "output_type": "stream",
     "text": [
      "dist_loop: 2 s ± 3.26 ms per loop (mean ± std. dev. of 3 runs, 3 loops each)\n",
      "dist_vec: 596 ms ± 9.92 ms per loop (mean ± std. dev. of 3 runs, 3 loops each)\n"
     ]
    }
   ],
   "source": [
    "print(\"dist_loop: \", end=\"\")\n",
    "%timeit -r3 -n3 dist_loop(X_train, X_test)\n",
    "print(\"dist_vec: \", end=\"\")\n",
    "%timeit -r3 -n3 dist_vec(X_train, X_test)\n"
   ]
  },
  {
   "cell_type": "markdown",
   "metadata": {},
   "source": [
    "-------------------------\n"
   ]
  },
  {
   "cell_type": "markdown",
   "metadata": {},
   "source": [
    "## 1.4 Implement the k-nearest neighbor classifier"
   ]
  },
  {
   "cell_type": "code",
   "execution_count": 52,
   "metadata": {},
   "outputs": [
    {
     "name": "stdout",
     "output_type": "stream",
     "text": [
      "Error rate for k=1: 1.3888888888888888%\n",
      "Error rate for k=3: 0.6944444444444444%\n",
      "Error rate for k=5: 0.6944444444444444%\n",
      "Error rate for k=9: 0.6944444444444444%\n",
      "Error rate for k=17: 0.6944444444444444%\n",
      "Error rate for k=33: 2.083333333333333%\n"
     ]
    }
   ],
   "source": [
    "\n",
    "y_train_mask = np.where((y_train==3) | (y_train==9))\n",
    "y_train_3_9 = y_train[y_train_mask]\n",
    "x_train_3_9 = X_train[y_train_mask]\n",
    "\n",
    "y_test_mask = np.where((y_test==3) | (y_test==9))\n",
    "y_test_3_9 = y_test[y_test_mask]\n",
    "x_test_3_9 = X_test[y_test_mask]\n",
    "\n",
    "\n",
    "\n",
    "\n",
    "\n",
    "def nearest_neighbor(train_y, train_x, test_x, k=1):\n",
    "    # get all distances\n",
    "    distances = dist_vec(train_x, test_x).T\n",
    "    \"\"\"\n",
    "    axis=0\n",
    "      |\n",
    "      v\n",
    "    0 1 2 \n",
    "    3 4 5 <- axis=1\n",
    "    6 7 8 \n",
    "    \"\"\"\n",
    "    k_nearest_mask = np.argpartition(distances, k, axis=1)[:, :k]\n",
    "    _y_nearest = train_y[k_nearest_mask]\n",
    "\n",
    "    u, indices = np.unique(_y_nearest, return_inverse=True)\n",
    "    test_y_hat = u[\n",
    "        np.argmax(\n",
    "            np.apply_along_axis(\n",
    "                np.bincount,\n",
    "                1,\n",
    "                indices.reshape(_y_nearest.shape),\n",
    "                None,\n",
    "                np.max(indices) + 1\n",
    "            ),\n",
    "            axis=1\n",
    "        )\n",
    "    ]\n",
    "\n",
    "    return test_y_hat\n",
    "\n",
    "\n",
    "for n in [1, 3, 5, 9, 17, 33]:\n",
    "    y_hat = nearest_neighbor(y_train_3_9, x_train_3_9, x_test_3_9, k=n)\n",
    "    print(f\"Error rate for k={n}: {(np.sum(y_hat!=y_test_3_9)/y_test_3_9.shape[0])*100}%\")\n",
    "\n"
   ]
  },
  {
   "cell_type": "markdown",
   "metadata": {},
   "source": [
    "# 2 Cross-validation"
   ]
  },
  {
   "cell_type": "code",
   "execution_count": 85,
   "metadata": {},
   "outputs": [
    {
     "name": "stdout",
     "output_type": "stream",
     "text": [
      "\n",
      "__________________________________________________\n",
      "|                 Given k=1, L=2                 |\n",
      "|             Mean Error |   Standard Deviation  |\n",
      "|     Our NN:     1.503% |               0.056%  |\n",
      "|     SK  NN:     1.503% |               0.056%  |\n",
      "|________________________________________________|\n",
      "\n",
      "__________________________________________________\n",
      "|                 Given k=1, L=5                 |\n",
      "|             Mean Error |   Standard Deviation  |\n",
      "|     Our NN:     1.446% |               0.867%  |\n",
      "|     SK  NN:     1.446% |               0.867%  |\n",
      "|________________________________________________|\n",
      "\n",
      "__________________________________________________\n",
      "|                Given k=1, L=10                 |\n",
      "|             Mean Error |   Standard Deviation  |\n",
      "|     Our NN:     1.279% |               1.112%  |\n",
      "|     SK  NN:     1.279% |               1.112%  |\n",
      "|________________________________________________|\n",
      "\n",
      "__________________________________________________\n",
      "|                 Given k=5, L=2                 |\n",
      "|             Mean Error |   Standard Deviation  |\n",
      "|     Our NN:     2.448% |               0.221%  |\n",
      "|     SK  NN:     2.448% |               0.221%  |\n",
      "|________________________________________________|\n",
      "\n",
      "__________________________________________________\n",
      "|                 Given k=5, L=5                 |\n",
      "|             Mean Error |   Standard Deviation  |\n",
      "|     Our NN:     1.503% |               0.696%  |\n",
      "|     SK  NN:     1.503% |               0.696%  |\n",
      "|________________________________________________|\n",
      "\n",
      "__________________________________________________\n",
      "|                Given k=5, L=10                 |\n",
      "|             Mean Error |   Standard Deviation  |\n",
      "|     Our NN:     1.391% |               0.448%  |\n",
      "|     SK  NN:     1.391% |               0.448%  |\n",
      "|________________________________________________|\n"
     ]
    }
   ],
   "source": [
    "import sklearn.neighbors as skn\n",
    "\n",
    "\n",
    "def split_folds(data, target, L: int):\n",
    "    permutation = np.random.permutation(target.size)\n",
    "    data = data[permutation]\n",
    "    target = target[permutation]\n",
    "\n",
    "    data = np.array_split(data, L)\n",
    "    target = np.array_split(target, L)\n",
    "\n",
    "    return data, target\n",
    "\n",
    "\n",
    "Ls = [2, 5, 10]\n",
    "ks = [1, 5, ]\n",
    "\n",
    "for k in ks:\n",
    "    for l in Ls:\n",
    "        X_folds, y_folds = split_folds(data, target, l)\n",
    "\n",
    "        average_error_for_l = []\n",
    "        sk_average_error_for_l = []\n",
    "        for i in range(l):\n",
    "            x_test = X_folds[i]\n",
    "            y_test = y_folds[i]\n",
    "\n",
    "            x_train = np.concatenate(\n",
    "                [x for j, x in enumerate(X_folds) if j != i])\n",
    "            y_train = np.concatenate(\n",
    "                [y for j, y in enumerate(y_folds) if j != i])\n",
    "\n",
    "            y_predict = nearest_neighbor(y_train, x_train, x_test, k=k)\n",
    "            average_error_for_l.append(\n",
    "                (np.sum(y_predict != y_test)/y_test.shape[0])*100)\n",
    "\n",
    "            sk_neighbor = skn.KNeighborsClassifier(n_neighbors=k)\n",
    "            sk_neighbor.fit(x_train, y_train)\n",
    "            sk_y_predict = sk_neighbor.predict(x_test)\n",
    "            sk_average_error_for_l.append(\n",
    "                (np.sum(sk_y_predict != y_test)/y_test.shape[0])*100)\n",
    "\n",
    "        print(\n",
    "f\"\"\"\n",
    "{'_'*50}\n",
    "|{f'Given k={k}, L={l}':^48}|\n",
    "|{f'Mean Error':>23} | {f'Standard Deviation':^22}|\n",
    "|{f'Our NN: {np.mean(average_error_for_l):9.3f}%':>23} | {f'{np.std(average_error_for_l):17.3f}%':^22}|\n",
    "|{f'SK  NN: {np.mean(average_error_for_l):9.3f}%':>23} | {f'{np.std(average_error_for_l):17.3f}%':^22}|\n",
    "|{'_'*48}|\"\"\"\n",
    "              )\n"
   ]
  },
  {
   "cell_type": "code",
   "execution_count": null,
   "metadata": {},
   "outputs": [],
   "source": []
  }
 ],
 "metadata": {
  "interpreter": {
   "hash": "cc6b6b23e34bbf3ec4720b5d94cc1ed03418494152e584c967626fc9e6d00012"
  },
  "kernelspec": {
   "display_name": "Python 3.8.10 64-bit ('.venv': venv)",
   "language": "python",
   "name": "python3"
  },
  "language_info": {
   "codemirror_mode": {
    "name": "ipython",
    "version": 3
   },
   "file_extension": ".py",
   "mimetype": "text/x-python",
   "name": "python",
   "nbconvert_exporter": "python",
   "pygments_lexer": "ipython3",
   "version": "3.8.10"
  },
  "orig_nbformat": 4
 },
 "nbformat": 4,
 "nbformat_minor": 2
}
