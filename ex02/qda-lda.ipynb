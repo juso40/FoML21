{
 "cells": [
  {
   "cell_type": "markdown",
   "metadata": {},
   "source": [
    "# 1 Data Preperation"
   ]
  },
  {
   "cell_type": "code",
   "execution_count": 782,
   "metadata": {},
   "outputs": [],
   "source": [
    "from typing import Tuple\n",
    "\n",
    "import numpy as np\n",
    "import matplotlib.pyplot as plt\n",
    "\n",
    "plt.rcParams[\"figure.figsize\"] = (6, 6)\n"
   ]
  },
  {
   "cell_type": "code",
   "execution_count": 783,
   "metadata": {},
   "outputs": [
    {
     "name": "stdout",
     "output_type": "stream",
     "text": [
      "dict_keys(['data', 'target', 'frame', 'feature_names', 'target_names', 'images', 'DESCR'])\n"
     ]
    }
   ],
   "source": [
    "from sklearn.datasets import load_digits\n",
    "\n",
    "digits = load_digits()\n",
    "\n",
    "print(digits.keys())\n",
    "\n",
    "data = digits[\"data\"]\n",
    "images = digits[\"images\"]\n",
    "target = digits[\"target\"]\n",
    "target_names = digits[\"target_names\"]\n"
   ]
  },
  {
   "cell_type": "markdown",
   "metadata": {},
   "source": [
    "Filter to only 1 and 7"
   ]
  },
  {
   "cell_type": "code",
   "execution_count": 784,
   "metadata": {},
   "outputs": [],
   "source": [
    "from sklearn import model_selection\n",
    "\n",
    "mask_1_7 = np.logical_or(target == 1, target == 7)\n",
    "\n",
    "data_1_7 = data[mask_1_7]\n",
    "target_1_7 = target[mask_1_7]\n",
    "\n",
    "X_train_1_7, X_test_1_7, y_train_1_7, y_test_1_7 = model_selection.train_test_split(\n",
    "    data_1_7, target_1_7, test_size=0.4, random_state=0\n",
    ")\n"
   ]
  },
  {
   "cell_type": "markdown",
   "metadata": {},
   "source": [
    "## 1.1 Dimension Reduction"
   ]
  },
  {
   "cell_type": "markdown",
   "metadata": {},
   "source": [
    "> To make classification harder (and to simplify the visualization of the feature space),    \n",
    "> you aresupposed to restrict yourself to 2 feature dimensions.   \n",
    "> Your dimensionreduction procedure should be callable through a function `reduce_dim`  \n",
    "> `reduced_x = reduce_dim(x)`   \n",
    "> where `x` is a `#instances×64` matrix and `reduced_x` has shape  `#instances×2`."
   ]
  },
  {
   "cell_type": "code",
   "execution_count": 785,
   "metadata": {},
   "outputs": [
    {
     "data": {
      "image/png": "[encoded data removed]",
      "text/plain": [
       "<Figure size 432x432 with 1 Axes>"
      ]
     },
     "metadata": {
      "needs_background": "light"
     },
     "output_type": "display_data"
    }
   ],
   "source": [
    "def reduce_dim(\n",
    "        features_x: np.ndarray\n",
    ") -> np.ndarray:\n",
    "    \"\"\"Reduces the Feature Dimension from #instances×64 to #instances×2.\n",
    "\n",
    "    Creates f1 and f2 by calulating the mean pixel value of each image, split  verticaly.\n",
    "\n",
    "    Parameters\n",
    "    ----------\n",
    "    features_x : numpy.ndarray\n",
    "        2D Numpy Array of the size #instances×64\n",
    "\n",
    "    Returns\n",
    "    -------\n",
    "    reduced_features : np.ndarray\n",
    "        2D Numpy Array of the size #instances×2\n",
    "\n",
    "    \"\"\"\n",
    "    # start by reshaping each 64-len 1d array into\n",
    "    # a 2d 8x8 array to better represent the image\n",
    "    features_x = features_x.reshape((-1, 8, 8))\n",
    "    feature_1 = features_x[:, :, :4].reshape((-1, 32))  # left vertical half\n",
    "    feature_2 = features_x[:, :, 4:].reshape((-1, 32))  # right vertical half\n",
    "\n",
    "    # calculate the mean for each row/image\n",
    "    mean_f1 = feature_1.mean(axis=1)\n",
    "    mean_f2 = feature_2.mean(axis=1)\n",
    "\n",
    "    # now return the vstack Transposed, so that the new dimension is #instances×2\n",
    "    return np.vstack((mean_f1, mean_f2)).T\n",
    "\n",
    "\n",
    "_example_img = X_test_1_7[7].reshape(8, 8)\n",
    "plt.figure()\n",
    "plt.gray()\n",
    "plt.imshow(_example_img, interpolation=\"nearest\")\n",
    "plt.vlines(x=4, ymin=0, ymax=7, color=\"red\")\n",
    "plt.text(x=0, y=2, s=\"feature1\", color=\"green\")\n",
    "plt.text(x=5, y=2, s=\"feature2\", color=\"green\")\n",
    "plt.show()\n",
    "\n",
    "\n",
    "def reduce_dim(x):     return x[:, [60, 19]]\n"
   ]
  },
  {
   "cell_type": "markdown",
   "metadata": {},
   "source": [
    "## 1.2  Scatterplot"
   ]
  },
  {
   "cell_type": "code",
   "execution_count": 786,
   "metadata": {},
   "outputs": [
    {
     "data": {
      "text/plain": [
       "Text(0, 0.5, 'feature2')"
      ]
     },
     "execution_count": 786,
     "metadata": {},
     "output_type": "execute_result"
    },
    {
     "data": {
      "image/png": "[encoded data removed]",
      "text/plain": [
       "<Figure size 432x432 with 1 Axes>"
      ]
     },
     "metadata": {
      "needs_background": "light"
     },
     "output_type": "display_data"
    }
   ],
   "source": [
    "reduced_x = reduce_dim(X_train_1_7)\n",
    "\n",
    "plt.scatter(\n",
    "    reduced_x[y_train_1_7 == 1][:, 0],\n",
    "    reduced_x[y_train_1_7 == 1][:, 1],\n",
    "    marker=\"+\",\n",
    "    label=\"1\",\n",
    ")\n",
    "plt.scatter(\n",
    "    reduced_x[y_train_1_7 == 7][:, 0],\n",
    "    reduced_x[y_train_1_7 == 7][:, 1],\n",
    "    marker=\"x\",\n",
    "    label=\"7\",\n",
    ")\n",
    "plt.legend()\n",
    "plt.title(\"Scatter Plot of the 2 feature dimensions\")\n",
    "plt.xlabel(\"feature1\")\n",
    "plt.ylabel(\"feature2\")\n"
   ]
  },
  {
   "cell_type": "markdown",
   "metadata": {},
   "source": [
    "# 2 Nearest Mean"
   ]
  },
  {
   "cell_type": "markdown",
   "metadata": {},
   "source": [
    "## 2.1 Implement the nearest mean classifier"
   ]
  },
  {
   "cell_type": "code",
   "execution_count": 787,
   "metadata": {},
   "outputs": [],
   "source": [
    "def nearest_mean(\n",
    "    training_features: np.ndarray,\n",
    "    training_labels: np.ndarray,\n",
    "    test_features: np.ndarray,\n",
    ") -> np.ndarray:\n",
    "\n",
    "    bins = np.ones((test_features.shape[0], 10)) * np.inf  # indices equal the number\n",
    "\n",
    "    # create means for class 1 and 2 across all their features 1 and 7 respectively\n",
    "    train_mean_1 = training_features[training_labels == 1].mean(axis=0)\n",
    "    train_mean_7 = training_features[training_labels == 7].mean(axis=0)\n",
    "\n",
    "    bins[:, 1] = np.linalg.norm(test_features - train_mean_1, axis=1)\n",
    "    bins[:, 7] = np.linalg.norm(test_features - train_mean_7, axis=1)\n",
    "\n",
    "    predicted_labels = np.argmin(bins, axis=1)\n",
    "\n",
    "    return predicted_labels\n"
   ]
  },
  {
   "cell_type": "markdown",
   "metadata": {},
   "source": [
    "## 2.2 Visualize the decision regions"
   ]
  },
  {
   "cell_type": "code",
   "execution_count": 788,
   "metadata": {},
   "outputs": [
    {
     "name": "stdout",
     "output_type": "stream",
     "text": [
      "0.006896551724137931\n"
     ]
    },
    {
     "data": {
      "text/plain": [
       "<matplotlib.legend.Legend at 0x7f5462aab070>"
      ]
     },
     "execution_count": 788,
     "metadata": {},
     "output_type": "execute_result"
    },
    {
     "data": {
      "image/png": "[encoded data removed]",
      "text/plain": [
       "<Figure size 432x432 with 1 Axes>"
      ]
     },
     "metadata": {
      "needs_background": "light"
     },
     "output_type": "display_data"
    }
   ],
   "source": [
    "reduced_X_train = reduce_dim(X_train_1_7)\n",
    "reduced_X_test = reduce_dim(X_test_1_7)\n",
    "\n",
    "predicted_labels = nearest_mean(reduced_X_train, y_train_1_7, reduced_X_test)\n",
    "print(np.sum(y_test_1_7 != predicted_labels) / predicted_labels.size)\n",
    "\n",
    "# draw the decision boundary\n",
    "step_scale = np.linspace(np.min(reduced_X_train)-0.5, np.max(reduced_X_train)+0.5, 200)\n",
    "XX, YY = np.meshgrid(step_scale, step_scale)\n",
    "ZZ = nearest_mean(\n",
    "    reduced_X_train, y_train_1_7, np.c_[XX.ravel(), YY.ravel()]\n",
    ").reshape(XX.shape)\n",
    "\n",
    "plt.contourf(XX, YY, ZZ, cmap=plt.cm.coolwarm, alpha=0.4)\n",
    "\n",
    "# filter the features by the truth\n",
    "truth_x_1 = reduced_X_test[y_test_1_7 == 1]\n",
    "truth_x_7 = reduced_X_test[y_test_1_7 == 7]\n",
    "# calculate the true means\n",
    "truth_mean_x_1 = truth_x_1.mean(axis=0) \n",
    "truth_mean_x_7 = truth_x_7.mean(axis=0)\n",
    "\n",
    "# scatter the true features\n",
    "plt.scatter(truth_x_1[:, 0], truth_x_1[:, 1], marker=\"+\", label=\"1\")\n",
    "plt.scatter(truth_x_7[:, 0], truth_x_7[:, 1], marker=\"x\", label=\"7\")\n",
    "# scatter the means\n",
    "plt.scatter(\n",
    "    truth_mean_x_1[0], truth_mean_x_1[1], s=200, marker=\"+\", color=\"Blue\", label=\"1 Mean\"\n",
    ")\n",
    "plt.scatter(\n",
    "    truth_mean_x_7[0], truth_mean_x_7[1], s=200, marker=\"x\", color=\"Red\", label=\"7 Mean\"\n",
    ")\n",
    "\n",
    "plt.xlabel(\"Feature 1\")\n",
    "plt.ylabel(\"Feature 2\")\n",
    "plt.legend()\n"
   ]
  },
  {
   "cell_type": "markdown",
   "metadata": {},
   "source": [
    "# 3 QDA"
   ]
  },
  {
   "cell_type": "markdown",
   "metadata": {},
   "source": [
    "## 3.1 Implement QDA Training"
   ]
  },
  {
   "cell_type": "markdown",
   "metadata": {},
   "source": [
    "> The label vector should use label 0 to indicate digit “1” and label 1 to indicate digit “7”."
   ]
  },
  {
   "cell_type": "code",
   "execution_count": 789,
   "metadata": {},
   "outputs": [],
   "source": [
    "X_train = X_train_1_7.copy()\n",
    "y_train = y_train_1_7.copy()\n",
    "X_test = X_test_1_7.copy()\n",
    "y_test = y_test_1_7.copy()\n",
    "\n",
    "y_train[y_train == 1] = 0\n",
    "y_train[y_train == 7] = 1\n",
    "\n",
    "y_test[y_test == 1] = 0\n",
    "y_test[y_test == 7] = 1\n"
   ]
  },
  {
   "cell_type": "code",
   "execution_count": 790,
   "metadata": {},
   "outputs": [],
   "source": [
    "def fit_qda(\n",
    "    training_features: np.ndarray,\n",
    "    training_labels: np.ndarray\n",
    ") -> Tuple[np.ndarray, np.ndarray, np.ndarray]:\n",
    "    \"\"\"Fit the QDA from the given data set.\n",
    "\n",
    "    Parameters\n",
    "    ----------\n",
    "    training_features : numpy.ndarray\n",
    "        N×D matrix\n",
    "    training_labels : numpy.ndarray\n",
    "        1×N vector, where N is the total number of training instances used.\n",
    "\n",
    "    Returns\n",
    "    -------\n",
    "    mu : numpy.ndarray\n",
    "        Array of size #classes×D, containing the mean for each feature.\n",
    "    covmat : numpy.ndarray\n",
    "        Array of size #classes×D×D, containing the two covariance matrices.\n",
    "    p : numpy.ndarray\n",
    "        Array of size 1×D, containing the priors.\n",
    "\n",
    "    \"\"\"\n",
    "    p: np.ndarray = np.bincount(training_labels) / training_labels.size\n",
    "    mu: np.ndarray = np.array(\n",
    "        [\n",
    "            training_features[training_labels == klass].mean(axis=0)\n",
    "            for klass in range(p.size)\n",
    "        ]\n",
    "    )\n",
    "\n",
    "    covmat: np.ndarray = np.array(\n",
    "        [\n",
    "            np.cov(training_features[training_labels == klass].T)\n",
    "            for klass in range(p.size)\n",
    "        ]\n",
    "    )\n",
    "\n",
    "    return mu, covmat, p\n"
   ]
  },
  {
   "cell_type": "markdown",
   "metadata": {},
   "source": [
    "> Apply the fit function to your training data from task 1.1."
   ]
  },
  {
   "cell_type": "code",
   "execution_count": 791,
   "metadata": {},
   "outputs": [
    {
     "name": "stdout",
     "output_type": "stream",
     "text": [
      "mu=array([[13.024, 14.675],\n",
      "       [ 1.753,  2.892]])\n",
      "covmat=array([[[10.286,  2.557],\n",
      "        [ 2.557,  5.975]],\n",
      "\n",
      "       [[ 7.971,  0.484],\n",
      "        [ 0.484, 13.771]]])\n",
      "p=array([0.569, 0.431])\n"
     ]
    }
   ],
   "source": [
    "reduced_X_test = reduce_dim(X_test)\n",
    "reduced_X_train = reduce_dim(X_train)\n",
    "\n",
    "mu, covmat, p = fit_qda(reduced_X_train, y_train)\n",
    "with np.printoptions(precision=3, suppress=True):\n",
    "    print(f\"{mu=}\\n{covmat=}\\n{p=}\")\n"
   ]
  },
  {
   "cell_type": "markdown",
   "metadata": {},
   "source": [
    "## 3.2 Implement QDA Prediction"
   ]
  },
  {
   "cell_type": "code",
   "execution_count": 792,
   "metadata": {},
   "outputs": [],
   "source": [
    "def predict_qda(\n",
    "    mu: np.ndarray,\n",
    "    covmat: np.ndarray,\n",
    "    p: np.ndarray,\n",
    "    test_features: np.ndarray\n",
    ") -> np.ndarray:\n",
    "    \"\"\"Predict using QDA.\n",
    "\n",
    "    Parameters\n",
    "    ----------\n",
    "    mu : numpy.ndarray\n",
    "        Array of size #classes×D, containing the mean for each feature.\n",
    "    covmat : numpy.ndarray\n",
    "        Array of size #classes×D×D, containing the two covariance matrices.\n",
    "    p : numpy.ndarray\n",
    "        Array of size 1×D, containing the priors.\n",
    "    test_features : numpy.ndarray\n",
    "        Array of size #instances×D, containing the test features to be predicted.\n",
    "\n",
    "\n",
    "    Returns\n",
    "    -------\n",
    "    predicted_labels : numpy.ndarray\n",
    "        Array of size 1×#instances, containing the predictions for test_features.\n",
    "\n",
    "    \"\"\"\n",
    "    b_ks = 0.5 * np.log(np.linalg.det((2 * np.pi * covmat))) - np.log(p)\n",
    "\n",
    "    # might be a bit ugly to look at, but damn its fast 👀\n",
    "    predicted_labels = np.argmin(\n",
    "        np.array(\n",
    "            [\n",
    "                0.5  # 1/2\n",
    "                * np.sum(\n",
    "                    (\n",
    "                        # (x-mu_k) but for the whole array\n",
    "                        (test_features - mu[klass])\n",
    "                        * np.linalg.inv(covmat[klass])  # sigma_k ^ -1\n",
    "                        # default .dot behaviour will be the same as .matmul or @\n",
    "                        .dot(\n",
    "                            # (x-mu_k).T but for the whole array\n",
    "                            (test_features - mu[klass]).T\n",
    "                        ).T  # Transpose again, because of matmul\n",
    "                    ),\n",
    "                    axis=1,\n",
    "                )\n",
    "                + b_ks[klass]  # b_k\n",
    "                for klass in range(p.size)  # for each k\n",
    "            ]\n",
    "        ),\n",
    "        axis=0,\n",
    "    )\n",
    "\n",
    "    return predicted_labels\n"
   ]
  },
  {
   "cell_type": "markdown",
   "metadata": {},
   "source": [
    ">  Apply the function separately to your training and test data and compute the training and test error rates respectively."
   ]
  },
  {
   "cell_type": "code",
   "execution_count": 793,
   "metadata": {},
   "outputs": [
    {
     "name": "stdout",
     "output_type": "stream",
     "text": [
      "Test Error Rate: 0.690%\n",
      "------------------------------\n",
      "Train Error Rate: 2.778%\n"
     ]
    }
   ],
   "source": [
    "# Test\n",
    "predicted_labels = predict_qda(mu, covmat, p, reduced_X_test)\n",
    "print(\n",
    "    f\"Test Error Rate: {np.sum(predicted_labels != y_test)/predicted_labels.size * 100:.3f}%\"\n",
    ")\n",
    "\n",
    "print(\"-\"*30)\n",
    "# Train\n",
    "predicted_labels = predict_qda(mu, covmat, p, reduced_X_train)\n",
    "print(\n",
    "    f\"Train Error Rate: {np.sum(predicted_labels != y_train)/predicted_labels.size * 100:.3f}%\"\n",
    ")\n"
   ]
  },
  {
   "cell_type": "markdown",
   "metadata": {},
   "source": [
    "## 3.3 Visualization"
   ]
  },
  {
   "cell_type": "code",
   "execution_count": 794,
   "metadata": {},
   "outputs": [
    {
     "data": {
      "text/plain": [
       "<matplotlib.legend.Legend at 0x7f54629e7880>"
      ]
     },
     "execution_count": 794,
     "metadata": {},
     "output_type": "execute_result"
    },
    {
     "data": {
      "image/png": "[encoded data removed]",
      "text/plain": [
       "<Figure size 432x432 with 1 Axes>"
      ]
     },
     "metadata": {
      "needs_background": "light"
     },
     "output_type": "display_data"
    }
   ],
   "source": [
    "# Start by drawing the decision boundary\n",
    "step_scale = np.linspace(np.min(reduced_X_train), np.max(reduced_X_train), 200)\n",
    "\n",
    "XX, YY = np.meshgrid(step_scale, step_scale)\n",
    "ZZ = predict_qda(\n",
    "    *fit_qda(reduced_X_train, y_train),\n",
    "    np.c_[XX.ravel(), YY.ravel()]\n",
    ").reshape(XX.shape)\n",
    "\n",
    "plt.contourf(XX, YY, ZZ, cmap=plt.cm.coolwarm, alpha=0.4)  # decisioun boundary\n",
    "\n",
    "# Filter our features by their truth\n",
    "truth_x_1 = reduced_X_train[y_train == 0]\n",
    "truth_x_7 = reduced_X_train[y_train == 1]\n",
    "# calculate the means for the features\n",
    "\n",
    "\n",
    "# scatter the truth\n",
    "plt.scatter(truth_x_1[:, 0], truth_x_1[:, 1], marker=\"+\", label=\"1\")\n",
    "plt.scatter(truth_x_7[:, 0], truth_x_7[:, 1], marker=\"x\", label=\"7\")\n",
    "\n",
    "# scatter the truth means\n",
    "plt.scatter(*mu[0], s=200, marker=\"+\", color=\"Blue\", label=\"1 Mean\")\n",
    "plt.scatter(*mu[1], s=200, marker=\"x\", color=\"Red\", label=\"7 Mean\")\n",
    "\n",
    "#################################################################################\n",
    "\n",
    "# Visualize the Gaussian distributions as contours\n",
    "\n",
    "features = np.c_[XX.ravel(), YY.ravel()]\n",
    "Z0 = (\n",
    "    1 / np.sqrt(np.linalg.det(2 * np.pi * covmat[0]))\n",
    "    * np.exp(-0.5 * np.sum((features - mu[0])\n",
    "                           * (np.linalg.inv(covmat[0])\n",
    "                              @ (features - mu[0]).T).T,\n",
    "                           axis=1))\n",
    ").reshape(200, 200)\n",
    "\n",
    "Z1 = (\n",
    "    1 / np.sqrt(np.linalg.det(2 * np.pi * covmat[1]))\n",
    "    * np.exp(-0.5 * np.sum((features - mu[1])\n",
    "                           * (np.linalg.inv(covmat[1])\n",
    "                              @ (features - mu[1]).T).T,\n",
    "                           axis=1))\n",
    ").reshape(200, 200)\n",
    "\n",
    "\n",
    "plt.contour(XX, YY, Z0)\n",
    "plt.contour(XX, YY, Z1)\n",
    "\n",
    "##############################################################\n",
    "\n",
    "# eigenvalue/vector decompositions, draw axis on the means\n",
    "\n",
    "for k, cm in enumerate(covmat):\n",
    "    eig_vals, eig_vecs = np.linalg.eig(cm)\n",
    "    std = np.sqrt(eig_vals)\n",
    "\n",
    "    pos = np.array(\n",
    "        [mu[k], mu[k] + eig_vecs[:, 0]*np.sqrt(eig_vals[0])]\n",
    "        )\n",
    "    plt.plot(pos[:, 0], pos[:, 1])\n",
    "\n",
    "    pos = np.array(\n",
    "        [mu[k], mu[k] + eig_vecs[:, 1]*np.sqrt(eig_vals[1])]\n",
    "        )\n",
    "    plt.plot(pos[:, 0], pos[:, 1])\n",
    "\n",
    "\n",
    "plt.xlabel(\"Feature 1\")\n",
    "plt.ylabel(\"Feature 2\")\n",
    "plt.legend()\n"
   ]
  },
  {
   "cell_type": "markdown",
   "metadata": {},
   "source": [
    "`QDA` works on the assumption that our features for each class are normally distributed.  \n",
    "While the center of our `QDA` regions is represented by the $µ$ for each class, their general shapes will be summarized by the approximated $Σ$.  \n",
    "So therefore, if our `reduce_dim` function created badly shaped clusters, the `QDA` wont be able to perfectly fit all the data."
   ]
  },
  {
   "cell_type": "markdown",
   "metadata": {},
   "source": [
    "The `nearest neighbor` classifier on the other hand will always perfectly classify the training set. Because the features it has to classify will be closest to itself, which it includes, since it was trained on that data."
   ]
  },
  {
   "cell_type": "markdown",
   "metadata": {},
   "source": [
    "## 3.4 Performance evaluation"
   ]
  },
  {
   "cell_type": "code",
   "execution_count": 795,
   "metadata": {},
   "outputs": [
    {
     "name": "stdout",
     "output_type": "stream",
     "text": [
      "1.3889% mean error rate with a standard deviation of 1.3889%\n"
     ]
    }
   ],
   "source": [
    "from sklearn.model_selection import cross_val_score, KFold\n",
    "from sklearn.base import BaseEstimator\n",
    "\n",
    "X_17_10 = data[mask_1_7]\n",
    "y_17_10 = target[mask_1_7]\n",
    "\n",
    "X_17_10 = reduce_dim(X_17_10)\n",
    "y_17_10[y_17_10 == 1] = 0\n",
    "y_17_10[y_17_10 == 7] = 1\n",
    "\n",
    "\n",
    "class QDA(BaseEstimator):\n",
    "    def __init__(self) -> None:\n",
    "        super().__init__()\n",
    "        self.mu = None\n",
    "        self.covmat = None\n",
    "        self.p = None\n",
    "\n",
    "    def fit(self, X, y):\n",
    "        self.mu, self.covmat, self.p = fit_qda(X, y)\n",
    "        self.x = X\n",
    "\n",
    "    def predict(self, X):\n",
    "        return predict_qda(self.mu, self.covmat, self.p, X)\n",
    "\n",
    "    def score(estimator, X, y):\n",
    "        return np.sum(estimator.predict(X) != y)/y.size\n",
    "\n",
    "\n",
    "qda_scores = cross_val_score(\n",
    "    estimator=QDA(),\n",
    "    X=X_17_10,\n",
    "    y=y_17_10,\n",
    "    cv=KFold(n_splits=10, shuffle=True)\n",
    ")\n",
    "print(f\"{qda_scores.mean()*100:.4f}% mean error rate with a standard deviation of {qda_scores.std()*100:.4f}%\")\n"
   ]
  },
  {
   "cell_type": "markdown",
   "metadata": {},
   "source": [
    "# 4 LDA"
   ]
  },
  {
   "cell_type": "markdown",
   "metadata": {},
   "source": [
    "## 4.1 Implement LDA Training"
   ]
  },
  {
   "cell_type": "code",
   "execution_count": 796,
   "metadata": {},
   "outputs": [],
   "source": [
    "X_train = X_train_1_7.copy()\n",
    "y_train = y_train_1_7.copy()\n",
    "X_test = X_test_1_7.copy()\n",
    "y_test = y_test_1_7.copy()\n",
    "\n",
    "y_train[y_train == 1] = 0\n",
    "y_train[y_train == 7] = 1\n",
    "\n",
    "y_test[y_test == 1] = 0\n",
    "y_test[y_test == 7] = 1"
   ]
  },
  {
   "cell_type": "code",
   "execution_count": 797,
   "metadata": {},
   "outputs": [],
   "source": [
    "def fit_lda(\n",
    "    training_features: np.ndarray,\n",
    "    training_labels: np.ndarray\n",
    ") -> Tuple[np.ndarray, np.ndarray, np.ndarray]:\n",
    "    \"\"\"Fit the LDA from the given data set.\n",
    "\n",
    "    Parameters\n",
    "    ----------\n",
    "    training_features : numpy.ndarray\n",
    "        N×D matrix\n",
    "    training_labels : numpy.ndarray\n",
    "        1×N vector, where N is the total number of training instances used.\n",
    "\n",
    "    Returns\n",
    "    -------\n",
    "    mu : numpy.ndarray\n",
    "        Array of size #classes×D, containing the mean for each feature.\n",
    "    covmat : numpy.ndarray\n",
    "        Array of size D×D, containing the two covariance matrices.\n",
    "    p : numpy.ndarray\n",
    "        Array of size 1×D, containing the priors.\n",
    "\n",
    "    \"\"\"\n",
    "    p: np.ndarray = np.bincount(training_labels) / training_labels.size\n",
    "    mu: np.ndarray = np.array(\n",
    "        [\n",
    "            training_features[training_labels == klass].mean(axis=0)\n",
    "            for klass in range(p.size)\n",
    "        ]\n",
    "    )\n",
    "\n",
    "    covmat: np.ndarray = sum(\n",
    "        np.cov(training_features[training_labels == klass].T, bias=True)\n",
    "        for klass in range(p.size)\n",
    "    )/p.size\n",
    "\n",
    "    return mu, covmat, p\n"
   ]
  },
  {
   "cell_type": "markdown",
   "metadata": {},
   "source": [
    "> Applythe fit function to your training data from task 1.1"
   ]
  },
  {
   "cell_type": "code",
   "execution_count": 798,
   "metadata": {},
   "outputs": [
    {
     "name": "stdout",
     "output_type": "stream",
     "text": [
      "mu=array([[13.024, 14.675],\n",
      "       [ 1.753,  2.892]])\n",
      "covmat=array([[9.044, 1.508],\n",
      "       [1.508, 9.775]])\n",
      "p=array([0.569, 0.431])\n"
     ]
    }
   ],
   "source": [
    "reduced_X_test = reduce_dim(X_test)\n",
    "reduced_X_train = reduce_dim(X_train)\n",
    "\n",
    "mu, covmat, p = fit_lda(reduced_X_train, y_train)\n",
    "with np.printoptions(precision=3, suppress=True):\n",
    "    print(f\"{mu=}\\n{covmat=}\\n{p=}\")\n"
   ]
  },
  {
   "cell_type": "markdown",
   "metadata": {},
   "source": [
    "## 4.2 Implement LDA Predictions"
   ]
  },
  {
   "cell_type": "code",
   "execution_count": 799,
   "metadata": {},
   "outputs": [],
   "source": [
    "def predict_lda(\n",
    "    mu: np.ndarray,\n",
    "    covmat: np.ndarray,\n",
    "    p: np.ndarray,\n",
    "    test_features: np.ndarray\n",
    ") -> np.ndarray:\n",
    "    \"\"\"Predict using LDA.\n",
    "\n",
    "    Parameters\n",
    "    ----------\n",
    "    mu : numpy.ndarray\n",
    "        Array of size #classes×D, containing the mean for each feature.\n",
    "    covmat : numpy.ndarray\n",
    "        Array of size D×D, containing the two covariance matrices.\n",
    "    p : numpy.ndarray\n",
    "        Array of size 1×D, containing the priors.\n",
    "    test_features : numpy.ndarray\n",
    "        Array of size #instances×D, containing the test features to be predicted.\n",
    "\n",
    "\n",
    "    Returns\n",
    "    -------\n",
    "    predicted_labels : numpy.ndarray\n",
    "        Array of size 1×#instances, containing the predictions for test_features.\n",
    "\n",
    "    \"\"\"\n",
    "    b_ks = 0.5 * np.log(np.linalg.det((2 * np.pi * covmat))) - np.log(p)\n",
    "\n",
    "    # might be a bit ugly to look at, but damn its fast 👀\n",
    "    predicted_labels = np.argmin(\n",
    "        np.array(\n",
    "            [\n",
    "                0.5  # 1/2\n",
    "                * np.sum(\n",
    "                    (\n",
    "                        # (x-mu_k) but for the whole array\n",
    "                        (test_features - mu[klass])\n",
    "                        * np.linalg.inv(covmat)  # sigma_k ^ -1\n",
    "                        # default .dot behaviour will be the same as .matmul or @\n",
    "                        .dot(\n",
    "                            # (x-mu_k).T but for the whole array\n",
    "                            (test_features - mu[klass]).T\n",
    "                        ).T  # Transpose again, because of matmul\n",
    "                    ),\n",
    "                    axis=1,\n",
    "                )\n",
    "                + b_ks[klass]  # b_k\n",
    "                for klass in range(p.size)  # for each k\n",
    "            ]\n",
    "        ),\n",
    "        axis=0,\n",
    "    )\n",
    "\n",
    "    return predicted_labels"
   ]
  },
  {
   "cell_type": "markdown",
   "metadata": {},
   "source": [
    ">  Apply the function separately to your training and test data and compute the training and test error rates respectively."
   ]
  },
  {
   "cell_type": "code",
   "execution_count": 800,
   "metadata": {},
   "outputs": [
    {
     "name": "stdout",
     "output_type": "stream",
     "text": [
      "Test Error Rate: 0.690%\n",
      "------------------------------\n",
      "Train Error Rate: 2.778%\n"
     ]
    }
   ],
   "source": [
    "# Test\n",
    "predicted_labels = predict_lda(mu, covmat, p, reduced_X_test)\n",
    "print(\n",
    "    f\"Test Error Rate: {np.sum(predicted_labels != y_test)/predicted_labels.size * 100:.3f}%\"\n",
    ")\n",
    "\n",
    "print(\"-\"*30)\n",
    "# Train\n",
    "predicted_labels = predict_lda(mu, covmat, p, reduced_X_train)\n",
    "print(\n",
    "    f\"Train Error Rate: {np.sum(predicted_labels != y_train)/predicted_labels.size * 100:.3f}%\"\n",
    ")\n"
   ]
  },
  {
   "cell_type": "markdown",
   "metadata": {},
   "source": [
    "## 4.3 Visualization"
   ]
  },
  {
   "cell_type": "code",
   "execution_count": 801,
   "metadata": {},
   "outputs": [
    {
     "data": {
      "text/plain": [
       "<matplotlib.legend.Legend at 0x7f546292d1f0>"
      ]
     },
     "execution_count": 801,
     "metadata": {},
     "output_type": "execute_result"
    },
    {
     "data": {
      "image/png": "[encoded data removed]",
      "text/plain": [
       "<Figure size 432x432 with 1 Axes>"
      ]
     },
     "metadata": {
      "needs_background": "light"
     },
     "output_type": "display_data"
    }
   ],
   "source": [
    "# Start by drawing the decision boundary\n",
    "step_scale = np.linspace(np.min(reduced_X_train), np.max(reduced_X_train), 200)\n",
    "\n",
    "XX, YY = np.meshgrid(step_scale, step_scale)\n",
    "ZZ = predict_lda(\n",
    "    *fit_lda(reduced_X_train, y_train),\n",
    "    np.c_[XX.ravel(), YY.ravel()]\n",
    ").reshape(XX.shape)\n",
    "\n",
    "plt.contourf(XX, YY, ZZ, cmap=plt.cm.coolwarm, alpha=0.4)  # decisioun boundary\n",
    "\n",
    "# Filter our features by their truth\n",
    "truth_x_1 = reduced_X_train[y_train == 0]\n",
    "truth_x_7 = reduced_X_train[y_train == 1]\n",
    "# calculate the means for the features\n",
    "\n",
    "\n",
    "# scatter the truth\n",
    "plt.scatter(truth_x_1[:, 0], truth_x_1[:, 1], marker=\"+\", label=\"1\")\n",
    "plt.scatter(truth_x_7[:, 0], truth_x_7[:, 1], marker=\"x\", label=\"7\")\n",
    "\n",
    "# scatter the truth means\n",
    "plt.scatter(*mu[0], s=200, marker=\"+\", color=\"Blue\", label=\"1 Mean\")\n",
    "plt.scatter(*mu[1], s=200, marker=\"x\", color=\"Red\", label=\"7 Mean\")\n",
    "\n",
    "#################################################################################\n",
    "\n",
    "# Visualize the Gaussian distributions as contours\n",
    "\n",
    "features = np.c_[XX.ravel(), YY.ravel()]\n",
    "Z0 = (\n",
    "    1 / np.sqrt(np.linalg.det(2 * np.pi * covmat))\n",
    "    * np.exp(-0.5 * np.sum((features - mu[0])\n",
    "                           * (np.linalg.inv(covmat)\n",
    "                              @ (features - mu[0]).T).T,\n",
    "                           axis=1))\n",
    ").reshape(200, 200)\n",
    "\n",
    "Z1 = (\n",
    "    1 / np.sqrt(np.linalg.det(2 * np.pi * covmat))\n",
    "    * np.exp(-0.5 * np.sum((features - mu[1])\n",
    "                           * (np.linalg.inv(covmat)\n",
    "                              @ (features - mu[1]).T).T,\n",
    "                           axis=1))\n",
    ").reshape(200, 200)\n",
    "\n",
    "\n",
    "plt.contour(XX, YY, Z0)\n",
    "plt.contour(XX, YY, Z1)\n",
    "\n",
    "##############################################################\n",
    "\n",
    "# eigenvalue/vector decompositions, draw axis on the means\n",
    "\n",
    "for k, cm in enumerate((covmat, covmat)):\n",
    "    eig_vals, eig_vecs = np.linalg.eig(cm)\n",
    "    std = np.sqrt(eig_vals)\n",
    "\n",
    "    pos = np.array(\n",
    "        [mu[k], mu[k] + eig_vecs[:, 0]*np.sqrt(eig_vals[0])]\n",
    "    )\n",
    "    plt.plot(pos[:, 0], pos[:, 1])\n",
    "\n",
    "    pos = np.array(\n",
    "        [mu[k], mu[k] + eig_vecs[:, 1]*np.sqrt(eig_vals[1])]\n",
    "    )\n",
    "    plt.plot(pos[:, 0], pos[:, 1])\n",
    "\n",
    "\n",
    "plt.xlabel(\"Feature 1\")\n",
    "plt.ylabel(\"Feature 2\")\n",
    "plt.legend()"
   ]
  },
  {
   "cell_type": "markdown",
   "metadata": {},
   "source": [
    "## 4.4 Performance evaluation"
   ]
  },
  {
   "cell_type": "code",
   "execution_count": 802,
   "metadata": {},
   "outputs": [
    {
     "name": "stdout",
     "output_type": "stream",
     "text": [
      "0.0221% mean error rate with a standard deviation of 0.0208%\n"
     ]
    }
   ],
   "source": [
    "X_17_10 = data[mask_1_7]\n",
    "y_17_10 = target[mask_1_7]\n",
    "\n",
    "X_17_10 = reduce_dim(X_17_10)\n",
    "y_17_10[y_17_10 == 1] = 0\n",
    "y_17_10[y_17_10 == 7] = 1\n",
    "\n",
    "\n",
    "class LDA(BaseEstimator):\n",
    "    def __init__(self) -> None:\n",
    "        super().__init__()\n",
    "        self.mu = None\n",
    "        self.covmat = None\n",
    "        self.p = None\n",
    "\n",
    "    def fit(self, X, y):\n",
    "        self.mu, self.covmat, self.p = fit_lda(X, y)\n",
    "        self.x = X\n",
    "\n",
    "    def predict(self, X):\n",
    "        return predict_lda(self.mu, self.covmat, self.p, X)\n",
    "\n",
    "    def score(estimator, X, y):\n",
    "        return np.sum(estimator.predict(X) != y)/y.size\n",
    "\n",
    "\n",
    "lda_scores = cross_val_score(\n",
    "    estimator=LDA(),\n",
    "    X=X_17_10,\n",
    "    y=y_17_10,\n",
    "    cv=KFold(n_splits=10, shuffle=True)\n",
    ")\n",
    "print(f\"{lda_scores.mean():.4f}% mean error rate with a standard deviation of {lda_scores.std():.4f}%\")\n"
   ]
  },
  {
   "cell_type": "markdown",
   "metadata": {},
   "source": [
    "> How does the prediction quality change relativeto QDA and the nearest mean classifier?"
   ]
  },
  {
   "cell_type": "code",
   "execution_count": 803,
   "metadata": {},
   "outputs": [
    {
     "name": "stdout",
     "output_type": "stream",
     "text": [
      "QDA\n",
      "1.3889% mean error rate with a standard deviation of 1.3889%\n",
      "______________________________\n",
      "\n",
      "LDA\n",
      "2.2147% mean error rate with a standard deviation of 2.0768%\n",
      "______________________________\n",
      "\n",
      "\n",
      "Nearest Mean\n",
      "1.6667% mean error rate with a standard deviation of 2.8328%\n",
      "______________________________\n",
      "\n",
      "\n"
     ]
    }
   ],
   "source": [
    "\n",
    "print(\n",
    "    f\"\"\"QDA\n",
    "{qda_scores.mean()*100:.4f}% mean error rate with a standard deviation of {qda_scores.std()*100:.4f}%\n",
    "{\"_\"*30}\n",
    "\"\"\"\n",
    ")\n",
    "\n",
    "print(\n",
    "    f\"\"\"LDA\n",
    "{lda_scores.mean()*100:.4f}% mean error rate with a standard deviation of {lda_scores.std()*100:.4f}%\n",
    "{\"_\"*30}\n",
    "\n",
    "\"\"\"\n",
    ")\n",
    "\n",
    "\n",
    "class NM(BaseEstimator):\n",
    "    def __init__(self) -> None:\n",
    "        super().__init__()\n",
    "        self.training_features = None\n",
    "        self.training_labels = None\n",
    "\n",
    "    def fit(self, X, y):\n",
    "        self.training_features = X\n",
    "        self.training_labels = y\n",
    "\n",
    "    def predict(self, X):\n",
    "        return nearest_mean(self.training_features, self.training_labels, X)\n",
    "\n",
    "    def score(estimator, X, y):\n",
    "        return np.sum(estimator.predict(X) != y)/y.size\n",
    "\n",
    "\n",
    "nm_scores = cross_val_score(\n",
    "    estimator=NM(),\n",
    "    X=reduce_dim(data_1_7),\n",
    "    y=target_1_7,\n",
    "    cv=KFold(n_splits=10, shuffle=True)\n",
    ")\n",
    "print(\n",
    "    f\"\"\"Nearest Mean\n",
    "{nm_scores.mean()*100:.4f}% mean error rate with a standard deviation of {nm_scores.std()*100:.4f}%\n",
    "{\"_\"*30}\n",
    "\n",
    "\"\"\"\n",
    ")\n"
   ]
  }
 ],
 "metadata": {
  "interpreter": {
   "hash": "cc6b6b23e34bbf3ec4720b5d94cc1ed03418494152e584c967626fc9e6d00012"
  },
  "kernelspec": {
   "display_name": "Python 3.8.10 64-bit ('.venv': venv)",
   "language": "python",
   "name": "python3"
  },
  "language_info": {
   "codemirror_mode": {
    "name": "ipython",
    "version": 3
   },
   "file_extension": ".py",
   "mimetype": "text/x-python",
   "name": "python",
   "nbconvert_exporter": "python",
   "pygments_lexer": "ipython3",
   "version": "3.8.10"
  },
  "orig_nbformat": 4
 },
 "nbformat": 4,
 "nbformat_minor": 2
}
