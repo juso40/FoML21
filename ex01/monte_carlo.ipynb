{
 "cells": [
  {
   "cell_type": "markdown",
   "metadata": {},
   "source": [
    "# 1 Monte-Carlo Simulation"
   ]
  },
  {
   "cell_type": "markdown",
   "metadata": {},
   "source": [
    "## 1.1 Data Creation and Visualization"
   ]
  },
  {
   "cell_type": "code",
   "execution_count": 32,
   "metadata": {},
   "outputs": [],
   "source": [
    "from typing import Tuple, List, Set\n",
    "\n",
    "import numpy as np\n",
    "import matplotlib.pyplot as plt\n",
    "\n",
    "plt.style.use(\"fivethirtyeight\")\n"
   ]
  },
  {
   "cell_type": "code",
   "execution_count": 31,
   "metadata": {},
   "outputs": [
    {
     "data": {
      "image/png": "[encoded data removed]",
      "text/plain": [
       "<Figure size 432x288 with 1 Axes>"
      ]
     },
     "metadata": {},
     "output_type": "display_data"
    }
   ],
   "source": [
    "def create_data(N: int) -> Tuple[np.ndarray, np.ndarray]:\n",
    "    label_y = np.random.randint(2, size=N)  # prior probability = 1/2\n",
    "    u = np.random.uniform(0, 1, size=N)\n",
    "    feature_x = np.array([np.sqrt(_u) if y==1 else 1 - np.sqrt(1-_u) for _u,y in zip(u, label_y)])\n",
    "    return feature_x, label_y\n",
    "\n",
    "    \n",
    "_ = plt.hist(create_data(100000)[0], bins=100)\n",
    "\n"
   ]
  },
  {
   "cell_type": "markdown",
   "metadata": {},
   "source": [
    "## 1.2 Classification by Tresholding"
   ]
  },
  {
   "cell_type": "code",
   "execution_count": 27,
   "metadata": {},
   "outputs": [],
   "source": [
    "def rule_a(features_x: np.ndarray, x_treshold: float) -> np.ndarray:\n",
    "    return np.array([0 if x < x_treshold else 1 for x in features_x])\n",
    "\n",
    "def rule_b(features_x: np.ndarray, x_treshold: float) -> np.ndarray:\n",
    "    return np.array([1 if x < x_treshold else 0 for x in features_x])\n",
    "\n",
    "def error_prob_rule_a(x_treshold: float) -> float:\n",
    "    return 0.25 + (x_treshold - 0.5)**2\n",
    "\n",
    "def error_prob_rule_b(x_treshold: float) -> float:\n",
    "    return 0.75 + (x_treshold - 0.5)**2\n",
    "\n",
    "x_t: List[float] = [0.0, 0.2, 0.5, 0.6]\n",
    "M: Set[int] = {10, 100, 1000, 10000}\n",
    "for treshold in x_t:\n",
    "    for m in M:\n",
    "        for i in range(10):\n",
    "            x, y = create_data(m)\n",
    "\n"
   ]
  },
  {
   "cell_type": "markdown",
   "metadata": {},
   "source": [
    "## 1.3 Baseline Classifiers"
   ]
  },
  {
   "cell_type": "code",
   "execution_count": 28,
   "metadata": {},
   "outputs": [],
   "source": [
    "def rule_c():\n",
    "    ...\n",
    "\n",
    "def rule_d():\n",
    "    ..."
   ]
  },
  {
   "cell_type": "markdown",
   "metadata": {},
   "source": [
    "## 1.4 Nearest Neighbor Classification"
   ]
  },
  {
   "cell_type": "code",
   "execution_count": 29,
   "metadata": {},
   "outputs": [],
   "source": [
    "def toy_nearest_neighbor(XTest: np.ndarray, Xtrain: np.ndarray, YTrain: np.ndarray) -> np.ndarray:\n",
    "    ..."
   ]
  }
 ],
 "metadata": {
  "interpreter": {
   "hash": "cc6b6b23e34bbf3ec4720b5d94cc1ed03418494152e584c967626fc9e6d00012"
  },
  "kernelspec": {
   "display_name": "Python 3.8.10 64-bit ('.venv': venv)",
   "name": "python3"
  },
  "language_info": {
   "codemirror_mode": {
    "name": "ipython",
    "version": 3
   },
   "file_extension": ".py",
   "mimetype": "text/x-python",
   "name": "python",
   "nbconvert_exporter": "python",
   "pygments_lexer": "ipython3",
   "version": "3.8.10"
  },
  "orig_nbformat": 4
 },
 "nbformat": 4,
 "nbformat_minor": 2
}
