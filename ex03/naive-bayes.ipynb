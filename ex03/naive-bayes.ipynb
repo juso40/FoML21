{
 "cells": [
  {
   "cell_type": "markdown",
   "metadata": {},
   "source": [
    "# 2 Naive Bayes Classifier"
   ]
  },
  {
   "cell_type": "markdown",
   "metadata": {},
   "source": [
    "Assume that all classes are equally likely, i.e. the priors are $p(y=k)=1/C$ with $C$ the number of classes.  \n",
    "The decision rule is defined by  \n",
    "$$\n",
    "\\hat{y}=\\argmax_k\\Bigg(\\prod_{j=1}p_j(x_j|y=k)\\Bigg)\n",
    "$$\n",
    "where $p_j(x_j|y=k)$ are 1-dimensional histograms for each feature $j$ and class $k$.  \n",
    "Rewrite to\n",
    "$$\n",
    "\\hat{y}=\\argmax_k\\Bigg(\\sum_{j=1}\\log p_j(x_j|y=k)\\Bigg)\n",
    "$$\n",
    "since tiny numbers are prone to numerical inaccuracy."
   ]
  },
  {
   "cell_type": "markdown",
   "metadata": {},
   "source": [
    "> Implement training of the naive Bayes classifier as a function  \n",
    "> `histograms, binning = fit_naive_bayes(features, labels, bincount)`  \n",
    "> where `histograms` is the $C×D×L$ array if histograms ($D$ is the number of feature dimensions, $L$ the number of bins), and `binning` is a $C×D×2$ array describing the bin layout."
   ]
  },
  {
   "cell_type": "markdown",
   "metadata": {},
   "source": []
  },
  {
   "cell_type": "code",
   "execution_count": 7,
   "metadata": {},
   "outputs": [],
   "source": [
    "from typing import Tuple\n",
    "import numpy as np\n",
    "from sklearn import model_selection"
   ]
  },
  {
   "cell_type": "code",
   "execution_count": 8,
   "metadata": {},
   "outputs": [
    {
     "name": "stdout",
     "output_type": "stream",
     "text": [
      "dict_keys(['data', 'target', 'frame', 'feature_names', 'target_names', 'images', 'DESCR'])\n"
     ]
    }
   ],
   "source": [
    "from sklearn.datasets import load_digits\n",
    "\n",
    "\n",
    "digits = load_digits()\n",
    "\n",
    "print(digits.keys())\n",
    "\n",
    "data = digits[\"data\"]\n",
    "images = digits[\"images\"]\n",
    "target = digits[\"target\"]\n",
    "target_names = digits[\"target_names\"]\n"
   ]
  },
  {
   "cell_type": "code",
   "execution_count": 9,
   "metadata": {},
   "outputs": [],
   "source": [
    "def IQR(features) -> float:\n",
    "    \"\"\"Calculates the IQR of the given features.\"\"\"\n",
    "    q75, q25 = np.percentile(\n",
    "        features, [0.75, 0.25], axis=0, interpolation=\"nearest\")\n",
    "    return q75 - q25\n",
    "\n",
    "\n",
    "def freedman_diaconis(features, labels) -> np.ndarray:\n",
    "    \"\"\"Returns the bins.\"\"\"\n",
    "    klasses = np.unique(labels)\n",
    "    bins = np.zeros((klasses.size, features.shape[1]))\n",
    "    binwidths = np.zeros((klasses.size, features.shape[1]))\n",
    "    for k, klass in enumerate(klasses):\n",
    "        klass_features = features[labels == klass]\n",
    "        h = (2*IQR(klass_features)/np.cbrt(klass_features.shape[0]))\n",
    "       \n",
    "        h[h==0] = np.inf  # cant divide by 0\n",
    "\n",
    "        binwidths[k] = h\n",
    "        bins[k] = np.ceil(\n",
    "            (np.max(klass_features, axis=0)-np.min(klass_features, axis=0))/h\n",
    "        )\n",
    "    binwidths[binwidths==np.inf] = 0  # done with dividing, \n",
    "    bins[bins==0] = 1  # We always need at least one bin\n",
    "\n",
    "    return bins\n"
   ]
  },
  {
   "cell_type": "code",
   "execution_count": 10,
   "metadata": {},
   "outputs": [],
   "source": [
    "def fit_naive_bayes(\n",
    "        features: np.ndarray,\n",
    "        labels: np.ndarray,\n",
    "        bincount: int\n",
    ") -> Tuple[np.ndarray, np.ndarray]:\n",
    "    \"\"\"Fit the given features and labels for the naive bayes algorithm.\n",
    "\n",
    "    Parameters\n",
    "    ----------\n",
    "    features : numpy.ndarray\n",
    "        `X×D` dimensional array, \n",
    "        with `D` beeing the number of feature dimensions.\n",
    "    labels : numpy.ndarray\n",
    "        `X×1` dimensional array.\n",
    "    bincount : int\n",
    "        Number of bins for the histograms.\n",
    "\n",
    "    Returns\n",
    "    -------\n",
    "    histograms : numpy.ndarray\n",
    "        `C×D×L` dimensional array, with\n",
    "        `C` as the number of unique classes,\n",
    "        `D` as the number of feature dimensions and\n",
    "        `L` as the number of bins.\n",
    "    binning : numpy.ndarray\n",
    "        `C×D×2` dimensional array describing the bin layout.\n",
    "    \"\"\"\n",
    "    N: int = labels.size\n",
    "    klasses: np.ndarray = np.unique(labels)\n",
    "    C: int = klasses.size\n",
    "    D: int = features.shape[1]\n",
    "    L: int = bincount\n",
    "\n",
    "    bincounts: np.ndarray\n",
    "    if L == 0:\n",
    "        bincounts = freedman_diaconis(features, labels)\n",
    "        L = int(np.mean(bincounts))\n",
    "\n",
    "    # let's start by predefining our arrays\n",
    "    binning: np.ndarray\n",
    "    histograms: np.ndarray\n",
    "    binning = np.zeros((C, D, 2))\n",
    "    histograms = np.zeros((C, D, L))\n",
    "    for k, klass in enumerate(klasses):\n",
    "        # filter our features by their class\n",
    "        klass_features: np.ndarray = features[labels == klass]\n",
    "        # cache the min and max features for further use\n",
    "        min_feature: np.ndarray = np.min(klass_features, axis=0)\n",
    "        max_feature: np.ndarray = np.max(klass_features, axis=0)\n",
    "\n",
    "        # the first bin always starts at the lowest feature\n",
    "        binning[k, :, 0] = min_feature  \n",
    "        binning[k, :, 1] = (max_feature-min_feature)/L\n",
    "\n",
    "        # since the calculated binwidth could be 0\n",
    "        # we should change it to a better value for \n",
    "        # further calculations, I chose np.inf\n",
    "        bins = binning[k, :, 1]\n",
    "        bins[bins==0] = np.inf  # we cant have 0 width\n",
    "        binning[k, :, 1] = bins\n",
    "\n",
    "        histograms[k] = np.floor(\n",
    "            (klass_features - binning[k, :, 0]) / binning[k, :, 1]\n",
    "        ).T\n",
    "\n",
    "    return histograms, binning\n"
   ]
  },
  {
   "cell_type": "markdown",
   "metadata": {},
   "source": [
    "> Filter the training set to use only digits “3” and “9”"
   ]
  },
  {
   "cell_type": "code",
   "execution_count": 11,
   "metadata": {},
   "outputs": [
    {
     "ename": "IndexError",
     "evalue": "too many indices for array: array is 1-dimensional, but 2 were indexed",
     "output_type": "error",
     "traceback": [
      "\u001b[0;31m---------------------------------------------------------------------------\u001b[0m",
      "\u001b[0;31mIndexError\u001b[0m                                Traceback (most recent call last)",
      "\u001b[0;32m/tmp/ipykernel_241/3126423503.py\u001b[0m in \u001b[0;36m<module>\u001b[0;34m\u001b[0m\n\u001b[1;32m      2\u001b[0m \u001b[0;34m\u001b[0m\u001b[0m\n\u001b[1;32m      3\u001b[0m \u001b[0mfeatures_39\u001b[0m \u001b[0;34m=\u001b[0m \u001b[0mdata\u001b[0m\u001b[0;34m[\u001b[0m\u001b[0mmask_39\u001b[0m\u001b[0;34m]\u001b[0m\u001b[0;34m\u001b[0m\u001b[0;34m\u001b[0m\u001b[0m\n\u001b[0;32m----> 4\u001b[0;31m \u001b[0mlabels_39\u001b[0m \u001b[0;34m=\u001b[0m \u001b[0mtarget\u001b[0m\u001b[0;34m[\u001b[0m\u001b[0mmask_39\u001b[0m\u001b[0;34m]\u001b[0m\u001b[0;34m\u001b[0m\u001b[0;34m\u001b[0m\u001b[0m\n\u001b[0m\u001b[1;32m      5\u001b[0m \u001b[0;34m\u001b[0m\u001b[0m\n\u001b[1;32m      6\u001b[0m \u001b[0mX_train\u001b[0m\u001b[0;34m,\u001b[0m\u001b[0;31m\\\u001b[0m\u001b[0;34m\u001b[0m\u001b[0;34m\u001b[0m\u001b[0m\n",
      "\u001b[0;31mIndexError\u001b[0m: too many indices for array: array is 1-dimensional, but 2 were indexed"
     ]
    }
   ],
   "source": [
    "mask_39 = np.logical_or(data == 3, data == 9)\n",
    "\n",
    "features_39 = data[mask_39]\n",
    "labels_39 = target[mask_39]\n",
    "\n",
    "X_train,\\\n",
    "    X_test,\\\n",
    "    y_train,\\\n",
    "    y_test = model_selection.train_test_split(\n",
    "        features_39, labels_39, test_size=0.33, random_state=0\n",
    "    )\n"
   ]
  },
  {
   "cell_type": "code",
   "execution_count": null,
   "metadata": {},
   "outputs": [],
   "source": [
    "def predict_naive_bayes(\n",
    "    test_features: np.ndarray,\n",
    "    histograms: np.ndarray,\n",
    "    binning: np.ndarray\n",
    ") -> np.ndarray:\n",
    "    \"\"\"Predict the labels for the given test features using naive bayes.\n",
    "\n",
    "    Parameters\n",
    "    ----------\n",
    "    test_features : np.ndarray\n",
    "        `N×D` dimensional array, \n",
    "        with `D` beeing the number of feature dimensions.\n",
    "    histograms : np.ndarray\n",
    "        `C×D×L` dimensional array, with\n",
    "        `C` as the number of unique classes,\n",
    "        `D` as the number of feature dimensions and\n",
    "        `L` as the number of bins.\n",
    "    binning : np.ndarray\n",
    "        `C×D×2` dimensional array describing the bin layout.\n",
    "\n",
    "\n",
    "    Returns\n",
    "    -------\n",
    "    predicted_labels : np.ndarray\n",
    "        `N×1` dimensional array, \n",
    "        with `N` beeing the number of feature instances.\n",
    "    \"\"\"\n",
    "    N: int = test_features.shape[0]\n",
    "    C: int = histograms.shape[0]\n",
    "    D: int = test_features.shape[1]\n",
    "\n",
    "\n",
    "    \n",
    "    predicted_labels: np.ndarray\n",
    "    feature_probabilities: np.ndarray\n",
    "    for k in range(C):\n",
    "        feature_probabilities = np.zeros(N)\n",
    "\n",
    "        # Case 1: Our bins are defined of infinite size\n",
    "        # this means that all our features are the same value\n",
    "        maks_1 = binning[k , :, 1] == np.inf\n",
    "            histograms[k, :, maks_1]\n",
    "\n",
    "\n",
    "\n",
    "    \n"
   ]
  }
 ],
 "metadata": {
  "interpreter": {
   "hash": "3f80ee0be1d01e02fee1006cc223e89ac6c84070bd62f46d3742cce0e29781d6"
  },
  "kernelspec": {
   "display_name": "Python 3.8.10 64-bit ('.venv': venv)",
   "language": "python",
   "name": "python3"
  },
  "language_info": {
   "codemirror_mode": {
    "name": "ipython",
    "version": 3
   },
   "file_extension": ".py",
   "mimetype": "text/x-python",
   "name": "python",
   "nbconvert_exporter": "python",
   "pygments_lexer": "ipython3",
   "version": "3.8.10"
  },
  "orig_nbformat": 4
 },
 "nbformat": 4,
 "nbformat_minor": 2
}
