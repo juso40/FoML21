{
 "cells": [
  {
   "cell_type": "markdown",
   "metadata": {},
   "source": [
    "# 2 Naive Bayes Classifier"
   ]
  },
  {
   "cell_type": "markdown",
   "metadata": {},
   "source": [
    "Assume that all classes are equally likely, i.e. the priors are $p(y=k)=1/C$ with $C$ the number of classes.  \n",
    "The decision rule is defined by  \n",
    "$$\n",
    "\\hat{y}=\\argmax_k\\Bigg(\\prod_{j=1}p_j(x_j|y=k)\\Bigg)\n",
    "$$\n",
    "where $p_j(x_j|y=k)$ are 1-dimensional histograms for each feature $j$ and class $k$.  \n",
    "Rewrite to\n",
    "$$\n",
    "\\hat{y}=\\argmax_k\\Bigg(\\sum_{j=1}\\log p_j(x_j|y=k)\\Bigg)\n",
    "$$\n",
    "since tiny numbers are prone to numerical inaccuracy."
   ]
  },
  {
   "cell_type": "markdown",
   "metadata": {},
   "source": [
    "> Implement training of the naive Bayes classifier as a function  \n",
    "> `histograms, binning = fit_naive_bayes(features, labels, bincount)`  \n",
    "> where `histograms` is the $C×D×L$ array if histograms ($D$ is the number of feature dimensions, $L$ the number of bins), and `binning` is a $C×D×2$ array describing the bin layout."
   ]
  },
  {
   "cell_type": "markdown",
   "metadata": {},
   "source": []
  },
  {
   "cell_type": "code",
   "execution_count": 53,
   "metadata": {},
   "outputs": [],
   "source": [
    "from typing import Tuple\n",
    "import numpy as np"
   ]
  },
  {
   "cell_type": "code",
   "execution_count": 54,
   "metadata": {},
   "outputs": [
    {
     "name": "stdout",
     "output_type": "stream",
     "text": [
      "dict_keys(['data', 'target', 'frame', 'feature_names', 'target_names', 'images', 'DESCR'])\n"
     ]
    }
   ],
   "source": [
    "from sklearn.datasets import load_digits\n",
    "\n",
    "\n",
    "digits = load_digits()\n",
    "\n",
    "print(digits.keys())\n",
    "\n",
    "data = digits[\"data\"]\n",
    "images = digits[\"images\"]\n",
    "target = digits[\"target\"]\n",
    "target_names = digits[\"target_names\"]"
   ]
  },
  {
   "cell_type": "code",
   "execution_count": 55,
   "metadata": {},
   "outputs": [],
   "source": [
    "def IQR(features) -> float:\n",
    "    \"\"\"Calculates the IQR of the given features.\"\"\"\n",
    "    q75, q25 = np.percentile(\n",
    "        features, [0.75, 0.25], axis=0, interpolation=\"nearest\")\n",
    "    return q75 - q25\n",
    "\n",
    "\n",
    "def freedman_diaconis(features, labels) -> Tuple[np.ndarray, np.ndarray]:\n",
    "    \"\"\"Returns the bins and their respective bin widths.\"\"\"\n",
    "    klasses = np.unique(labels)\n",
    "    bins = np.zeros((klasses.size, features.shape[1]))\n",
    "    binwidths = np.zeros((klasses.size, features.shape[1]))\n",
    "    for k, klass in enumerate(klasses):\n",
    "        klass_features = features[labels == klass]\n",
    "        h = (2*IQR(klass_features)/np.cbrt(klass_features.shape[0]))\n",
    "       \n",
    "        h[h==0] = np.inf  # cant divide by 0\n",
    "\n",
    "        binwidths[k] = h\n",
    "        bins[k] = np.ceil(\n",
    "            (np.max(klass_features, axis=0)-np.min(klass_features, axis=0))/h\n",
    "        )\n",
    "    binwidths[binwidths==np.inf] = 0  # done with dividing, \n",
    "    bins[bins==0] = 1  # We always need at least one bin\n",
    "\n",
    "    return bins, binwidths\n"
   ]
  },
  {
   "cell_type": "code",
   "execution_count": 56,
   "metadata": {},
   "outputs": [
    {
     "data": {
      "text/plain": [
       "array([[0., 0., 0., 0., 0., 0., 0., 0., 0., 0., 0., 0., 0., 0., 0., 0.,\n",
       "        0., 0., 0., 0., 0., 0., 0., 0., 0., 0., 0., 0., 0., 0., 0., 0.,\n",
       "        0., 0., 0., 0., 0., 0., 0., 0., 0., 0., 0., 0., 0., 0., 0., 0.,\n",
       "        0., 0., 0., 0., 0., 0., 0., 0., 0., 0., 0., 0., 0., 0., 0., 0.],\n",
       "       [0., 0., 0., 0., 0., 0., 0., 0., 0., 0., 0., 0., 0., 0., 0., 0.,\n",
       "        0., 0., 0., 0., 0., 0., 0., 0., 0., 0., 0., 0., 0., 0., 0., 0.,\n",
       "        0., 0., 0., 0., 0., 0., 0., 0., 0., 0., 0., 0., 0., 0., 0., 0.,\n",
       "        0., 0., 0., 0., 0., 0., 0., 0., 0., 0., 0., 0., 0., 0., 0., 0.],\n",
       "       [0., 0., 0., 0., 0., 0., 0., 0., 0., 0., 0., 0., 0., 0., 0., 0.,\n",
       "        0., 0., 0., 0., 0., 0., 0., 0., 0., 0., 0., 0., 0., 0., 0., 0.,\n",
       "        0., 0., 0., 0., 0., 0., 0., 0., 0., 0., 0., 0., 0., 0., 0., 0.,\n",
       "        0., 0., 0., 0., 0., 0., 0., 0., 0., 0., 0., 0., 0., 0., 0., 0.],\n",
       "       [0., 0., 0., 0., 0., 0., 0., 0., 0., 0., 0., 0., 0., 0., 0., 0.,\n",
       "        0., 0., 0., 0., 0., 0., 0., 0., 0., 0., 0., 0., 0., 0., 0., 0.,\n",
       "        0., 0., 0., 0., 0., 0., 0., 0., 0., 0., 0., 0., 0., 0., 0., 0.,\n",
       "        0., 0., 0., 0., 0., 0., 0., 0., 0., 0., 0., 0., 0., 0., 0., 0.],\n",
       "       [0., 0., 0., 0., 0., 0., 0., 0., 0., 0., 0., 0., 0., 0., 0., 0.,\n",
       "        0., 0., 0., 0., 0., 0., 0., 0., 0., 0., 0., 0., 0., 0., 0., 0.,\n",
       "        0., 0., 0., 0., 0., 0., 0., 0., 0., 0., 0., 0., 0., 0., 0., 0.,\n",
       "        0., 0., 0., 0., 0., 0., 0., 0., 0., 0., 0., 0., 0., 0., 0., 0.],\n",
       "       [0., 0., 0., 0., 0., 0., 0., 0., 0., 0., 0., 0., 0., 0., 0., 0.,\n",
       "        0., 0., 0., 0., 0., 0., 0., 0., 0., 0., 0., 0., 0., 0., 0., 0.,\n",
       "        0., 0., 0., 0., 0., 0., 0., 0., 0., 0., 0., 0., 0., 0., 0., 0.,\n",
       "        0., 0., 0., 0., 0., 0., 0., 0., 0., 0., 0., 0., 0., 0., 0., 0.],\n",
       "       [0., 0., 0., 0., 0., 0., 0., 0., 0., 0., 0., 0., 0., 0., 0., 0.,\n",
       "        0., 0., 0., 0., 0., 0., 0., 0., 0., 0., 0., 0., 0., 0., 0., 0.,\n",
       "        0., 0., 0., 0., 0., 0., 0., 0., 0., 0., 0., 0., 0., 0., 0., 0.,\n",
       "        0., 0., 0., 0., 0., 0., 0., 0., 0., 0., 0., 0., 0., 0., 0., 0.],\n",
       "       [0., 0., 0., 0., 0., 0., 0., 0., 0., 0., 0., 0., 0., 0., 0., 0.,\n",
       "        0., 0., 0., 0., 0., 0., 0., 0., 0., 0., 0., 0., 0., 0., 0., 0.,\n",
       "        0., 0., 0., 0., 0., 0., 0., 0., 0., 0., 0., 0., 0., 0., 0., 0.,\n",
       "        0., 0., 0., 0., 0., 0., 0., 0., 0., 0., 0., 0., 0., 0., 0., 0.],\n",
       "       [0., 0., 0., 0., 0., 0., 0., 0., 0., 0., 0., 0., 0., 0., 0., 0.,\n",
       "        0., 0., 0., 0., 0., 0., 0., 0., 0., 0., 0., 0., 0., 0., 0., 0.,\n",
       "        0., 0., 0., 0., 0., 0., 0., 0., 0., 0., 0., 0., 0., 0., 0., 0.,\n",
       "        0., 0., 0., 0., 0., 0., 0., 0., 0., 0., 0., 0., 0., 0., 0., 0.],\n",
       "       [0., 0., 0., 0., 0., 0., 0., 0., 0., 0., 0., 0., 0., 0., 0., 0.,\n",
       "        0., 0., 0., 0., 0., 0., 0., 0., 0., 0., 0., 0., 0., 0., 0., 0.,\n",
       "        0., 0., 0., 0., 0., 0., 0., 0., 0., 0., 0., 0., 0., 0., 0., 0.,\n",
       "        0., 0., 0., 0., 0., 0., 0., 0., 0., 0., 0., 0., 0., 0., 0., 0.]])"
      ]
     },
     "execution_count": 56,
     "metadata": {},
     "output_type": "execute_result"
    }
   ],
   "source": [
    "features = np.array(\n",
    "    [\n",
    "        [3, 4],\n",
    "        [1, 0],\n",
    "        [12, 2]\n",
    "    ]\n",
    ")\n",
    "freedman_diaconis(data[:10], target[:10])\n"
   ]
  },
  {
   "cell_type": "code",
   "execution_count": 57,
   "metadata": {},
   "outputs": [
    {
     "ename": "SyntaxError",
     "evalue": "invalid syntax (2858211734.py, line 34)",
     "output_type": "error",
     "traceback": [
      "\u001b[0;36m  File \u001b[0;32m\"/tmp/ipykernel_2540/2858211734.py\"\u001b[0;36m, line \u001b[0;32m34\u001b[0m\n\u001b[0;31m    priors = labels[]\u001b[0m\n\u001b[0m                    ^\u001b[0m\n\u001b[0;31mSyntaxError\u001b[0m\u001b[0;31m:\u001b[0m invalid syntax\n"
     ]
    }
   ],
   "source": [
    "def fit_naive_bayes(\n",
    "        features: np.ndarray,\n",
    "        labels: np.ndarray,\n",
    "        bincount: int\n",
    ") -> Tuple[np.ndarray, np.ndarray]:\n",
    "    \"\"\"Fit the given features and labels for the naive bayes algorithm.\n",
    "\n",
    "    Parameters\n",
    "    ----------\n",
    "    features : numpy.ndarray\n",
    "        `X×D` dimensional array, \n",
    "        with `D` beeing the number of feature dimensions.\n",
    "    labels : numpy.ndarray\n",
    "        `X×1` dimensional array.\n",
    "    bincount : int\n",
    "        Number of bins for the histograms.\n",
    "\n",
    "    Returns\n",
    "    -------\n",
    "    histograms : numpy.ndarray\n",
    "        `C×D×L` dimensional array, with\n",
    "        `C` as the number of unique classes,\n",
    "        `D` as the number of feature dimensions and\n",
    "        `L` as the number of bins.\n",
    "    binning : numpy.ndarray\n",
    "        `C×D×2` dimensional array describing the bin layout.\n",
    "    \"\"\"\n",
    "    N: int = labels.size\n",
    "    C: int = np.unique(labels).size\n",
    "    D: int = features.shape[1]\n",
    "    L: int = bincount\n",
    "\n",
    "    bincounts: np.ndarray\n",
    "    binwidths: np.ndarray\n",
    "    if L==0:\n",
    "        bincounts, binwidths = freedman_diaconis(features, labels)\n",
    "        # ToDo: Calculate a reasonable L\n",
    "\n",
    "    priors: np.ndarray\n",
    "    priors = labels[]\n",
    "\n",
    "    histograms = \"\"\n",
    "    binning = 5\n",
    "    np.sum\n",
    "    return histograms, binning\n"
   ]
  },
  {
   "cell_type": "code",
   "execution_count": null,
   "metadata": {},
   "outputs": [],
   "source": []
  }
 ],
 "metadata": {
  "interpreter": {
   "hash": "3f80ee0be1d01e02fee1006cc223e89ac6c84070bd62f46d3742cce0e29781d6"
  },
  "kernelspec": {
   "display_name": "Python 3.8.10 64-bit ('.venv': venv)",
   "language": "python",
   "name": "python3"
  },
  "language_info": {
   "codemirror_mode": {
    "name": "ipython",
    "version": 3
   },
   "file_extension": ".py",
   "mimetype": "text/x-python",
   "name": "python",
   "nbconvert_exporter": "python",
   "pygments_lexer": "ipython3",
   "version": "3.8.10"
  },
  "orig_nbformat": 4
 },
 "nbformat": 4,
 "nbformat_minor": 2
}
